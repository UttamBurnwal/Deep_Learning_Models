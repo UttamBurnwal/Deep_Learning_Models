{
 "cells": [
  {
   "cell_type": "code",
   "execution_count": 1,
   "id": "221919fa",
   "metadata": {},
   "outputs": [],
   "source": [
    "import pandas as pd\n",
    "import numpy as np\n",
    "\n",
    "np.random.seed(1212)\n",
    "\n",
    "import keras\n",
    "from keras.models import Model\n",
    "from keras.layers import *\n",
    "from keras import optimizers"
   ]
  },
  {
   "cell_type": "code",
   "execution_count": 2,
   "id": "a52ef7eb",
   "metadata": {},
   "outputs": [],
   "source": [
    "df_train = pd.read_csv('D:/Data Science Course/Projects/Deep Learning/Datasets/mnist_train.csv')\n",
    "df_test = pd.read_csv('D:/Data Science Course/Projects/Deep Learning/Datasets/mnist_test.csv')"
   ]
  },
  {
   "cell_type": "code",
   "execution_count": 3,
   "id": "9f5ad3ee",
   "metadata": {},
   "outputs": [
    {
     "data": {
      "text/html": [
       "<div>\n",
       "<style scoped>\n",
       "    .dataframe tbody tr th:only-of-type {\n",
       "        vertical-align: middle;\n",
       "    }\n",
       "\n",
       "    .dataframe tbody tr th {\n",
       "        vertical-align: top;\n",
       "    }\n",
       "\n",
       "    .dataframe thead th {\n",
       "        text-align: right;\n",
       "    }\n",
       "</style>\n",
       "<table border=\"1\" class=\"dataframe\">\n",
       "  <thead>\n",
       "    <tr style=\"text-align: right;\">\n",
       "      <th></th>\n",
       "      <th>label</th>\n",
       "      <th>1x1</th>\n",
       "      <th>1x2</th>\n",
       "      <th>1x3</th>\n",
       "      <th>1x4</th>\n",
       "      <th>1x5</th>\n",
       "      <th>1x6</th>\n",
       "      <th>1x7</th>\n",
       "      <th>1x8</th>\n",
       "      <th>1x9</th>\n",
       "      <th>...</th>\n",
       "      <th>28x19</th>\n",
       "      <th>28x20</th>\n",
       "      <th>28x21</th>\n",
       "      <th>28x22</th>\n",
       "      <th>28x23</th>\n",
       "      <th>28x24</th>\n",
       "      <th>28x25</th>\n",
       "      <th>28x26</th>\n",
       "      <th>28x27</th>\n",
       "      <th>28x28</th>\n",
       "    </tr>\n",
       "  </thead>\n",
       "  <tbody>\n",
       "    <tr>\n",
       "      <th>0</th>\n",
       "      <td>5</td>\n",
       "      <td>0</td>\n",
       "      <td>0</td>\n",
       "      <td>0</td>\n",
       "      <td>0</td>\n",
       "      <td>0</td>\n",
       "      <td>0</td>\n",
       "      <td>0</td>\n",
       "      <td>0</td>\n",
       "      <td>0</td>\n",
       "      <td>...</td>\n",
       "      <td>0</td>\n",
       "      <td>0</td>\n",
       "      <td>0</td>\n",
       "      <td>0</td>\n",
       "      <td>0</td>\n",
       "      <td>0</td>\n",
       "      <td>0</td>\n",
       "      <td>0</td>\n",
       "      <td>0</td>\n",
       "      <td>0</td>\n",
       "    </tr>\n",
       "    <tr>\n",
       "      <th>1</th>\n",
       "      <td>0</td>\n",
       "      <td>0</td>\n",
       "      <td>0</td>\n",
       "      <td>0</td>\n",
       "      <td>0</td>\n",
       "      <td>0</td>\n",
       "      <td>0</td>\n",
       "      <td>0</td>\n",
       "      <td>0</td>\n",
       "      <td>0</td>\n",
       "      <td>...</td>\n",
       "      <td>0</td>\n",
       "      <td>0</td>\n",
       "      <td>0</td>\n",
       "      <td>0</td>\n",
       "      <td>0</td>\n",
       "      <td>0</td>\n",
       "      <td>0</td>\n",
       "      <td>0</td>\n",
       "      <td>0</td>\n",
       "      <td>0</td>\n",
       "    </tr>\n",
       "    <tr>\n",
       "      <th>2</th>\n",
       "      <td>4</td>\n",
       "      <td>0</td>\n",
       "      <td>0</td>\n",
       "      <td>0</td>\n",
       "      <td>0</td>\n",
       "      <td>0</td>\n",
       "      <td>0</td>\n",
       "      <td>0</td>\n",
       "      <td>0</td>\n",
       "      <td>0</td>\n",
       "      <td>...</td>\n",
       "      <td>0</td>\n",
       "      <td>0</td>\n",
       "      <td>0</td>\n",
       "      <td>0</td>\n",
       "      <td>0</td>\n",
       "      <td>0</td>\n",
       "      <td>0</td>\n",
       "      <td>0</td>\n",
       "      <td>0</td>\n",
       "      <td>0</td>\n",
       "    </tr>\n",
       "    <tr>\n",
       "      <th>3</th>\n",
       "      <td>1</td>\n",
       "      <td>0</td>\n",
       "      <td>0</td>\n",
       "      <td>0</td>\n",
       "      <td>0</td>\n",
       "      <td>0</td>\n",
       "      <td>0</td>\n",
       "      <td>0</td>\n",
       "      <td>0</td>\n",
       "      <td>0</td>\n",
       "      <td>...</td>\n",
       "      <td>0</td>\n",
       "      <td>0</td>\n",
       "      <td>0</td>\n",
       "      <td>0</td>\n",
       "      <td>0</td>\n",
       "      <td>0</td>\n",
       "      <td>0</td>\n",
       "      <td>0</td>\n",
       "      <td>0</td>\n",
       "      <td>0</td>\n",
       "    </tr>\n",
       "    <tr>\n",
       "      <th>4</th>\n",
       "      <td>9</td>\n",
       "      <td>0</td>\n",
       "      <td>0</td>\n",
       "      <td>0</td>\n",
       "      <td>0</td>\n",
       "      <td>0</td>\n",
       "      <td>0</td>\n",
       "      <td>0</td>\n",
       "      <td>0</td>\n",
       "      <td>0</td>\n",
       "      <td>...</td>\n",
       "      <td>0</td>\n",
       "      <td>0</td>\n",
       "      <td>0</td>\n",
       "      <td>0</td>\n",
       "      <td>0</td>\n",
       "      <td>0</td>\n",
       "      <td>0</td>\n",
       "      <td>0</td>\n",
       "      <td>0</td>\n",
       "      <td>0</td>\n",
       "    </tr>\n",
       "  </tbody>\n",
       "</table>\n",
       "<p>5 rows × 785 columns</p>\n",
       "</div>"
      ],
      "text/plain": [
       "   label  1x1  1x2  1x3  1x4  1x5  1x6  1x7  1x8  1x9  ...  28x19  28x20  \\\n",
       "0      5    0    0    0    0    0    0    0    0    0  ...      0      0   \n",
       "1      0    0    0    0    0    0    0    0    0    0  ...      0      0   \n",
       "2      4    0    0    0    0    0    0    0    0    0  ...      0      0   \n",
       "3      1    0    0    0    0    0    0    0    0    0  ...      0      0   \n",
       "4      9    0    0    0    0    0    0    0    0    0  ...      0      0   \n",
       "\n",
       "   28x21  28x22  28x23  28x24  28x25  28x26  28x27  28x28  \n",
       "0      0      0      0      0      0      0      0      0  \n",
       "1      0      0      0      0      0      0      0      0  \n",
       "2      0      0      0      0      0      0      0      0  \n",
       "3      0      0      0      0      0      0      0      0  \n",
       "4      0      0      0      0      0      0      0      0  \n",
       "\n",
       "[5 rows x 785 columns]"
      ]
     },
     "execution_count": 3,
     "metadata": {},
     "output_type": "execute_result"
    }
   ],
   "source": [
    "df_train.head()"
   ]
  },
  {
   "cell_type": "code",
   "execution_count": 4,
   "id": "c046ddd5",
   "metadata": {},
   "outputs": [
    {
     "data": {
      "text/html": [
       "<div>\n",
       "<style scoped>\n",
       "    .dataframe tbody tr th:only-of-type {\n",
       "        vertical-align: middle;\n",
       "    }\n",
       "\n",
       "    .dataframe tbody tr th {\n",
       "        vertical-align: top;\n",
       "    }\n",
       "\n",
       "    .dataframe thead th {\n",
       "        text-align: right;\n",
       "    }\n",
       "</style>\n",
       "<table border=\"1\" class=\"dataframe\">\n",
       "  <thead>\n",
       "    <tr style=\"text-align: right;\">\n",
       "      <th></th>\n",
       "      <th>label</th>\n",
       "      <th>1x1</th>\n",
       "      <th>1x2</th>\n",
       "      <th>1x3</th>\n",
       "      <th>1x4</th>\n",
       "      <th>1x5</th>\n",
       "      <th>1x6</th>\n",
       "      <th>1x7</th>\n",
       "      <th>1x8</th>\n",
       "      <th>1x9</th>\n",
       "      <th>...</th>\n",
       "      <th>28x19</th>\n",
       "      <th>28x20</th>\n",
       "      <th>28x21</th>\n",
       "      <th>28x22</th>\n",
       "      <th>28x23</th>\n",
       "      <th>28x24</th>\n",
       "      <th>28x25</th>\n",
       "      <th>28x26</th>\n",
       "      <th>28x27</th>\n",
       "      <th>28x28</th>\n",
       "    </tr>\n",
       "  </thead>\n",
       "  <tbody>\n",
       "    <tr>\n",
       "      <th>0</th>\n",
       "      <td>7</td>\n",
       "      <td>0</td>\n",
       "      <td>0</td>\n",
       "      <td>0</td>\n",
       "      <td>0</td>\n",
       "      <td>0</td>\n",
       "      <td>0</td>\n",
       "      <td>0</td>\n",
       "      <td>0</td>\n",
       "      <td>0</td>\n",
       "      <td>...</td>\n",
       "      <td>0</td>\n",
       "      <td>0</td>\n",
       "      <td>0</td>\n",
       "      <td>0</td>\n",
       "      <td>0</td>\n",
       "      <td>0</td>\n",
       "      <td>0</td>\n",
       "      <td>0</td>\n",
       "      <td>0</td>\n",
       "      <td>0</td>\n",
       "    </tr>\n",
       "    <tr>\n",
       "      <th>1</th>\n",
       "      <td>2</td>\n",
       "      <td>0</td>\n",
       "      <td>0</td>\n",
       "      <td>0</td>\n",
       "      <td>0</td>\n",
       "      <td>0</td>\n",
       "      <td>0</td>\n",
       "      <td>0</td>\n",
       "      <td>0</td>\n",
       "      <td>0</td>\n",
       "      <td>...</td>\n",
       "      <td>0</td>\n",
       "      <td>0</td>\n",
       "      <td>0</td>\n",
       "      <td>0</td>\n",
       "      <td>0</td>\n",
       "      <td>0</td>\n",
       "      <td>0</td>\n",
       "      <td>0</td>\n",
       "      <td>0</td>\n",
       "      <td>0</td>\n",
       "    </tr>\n",
       "    <tr>\n",
       "      <th>2</th>\n",
       "      <td>1</td>\n",
       "      <td>0</td>\n",
       "      <td>0</td>\n",
       "      <td>0</td>\n",
       "      <td>0</td>\n",
       "      <td>0</td>\n",
       "      <td>0</td>\n",
       "      <td>0</td>\n",
       "      <td>0</td>\n",
       "      <td>0</td>\n",
       "      <td>...</td>\n",
       "      <td>0</td>\n",
       "      <td>0</td>\n",
       "      <td>0</td>\n",
       "      <td>0</td>\n",
       "      <td>0</td>\n",
       "      <td>0</td>\n",
       "      <td>0</td>\n",
       "      <td>0</td>\n",
       "      <td>0</td>\n",
       "      <td>0</td>\n",
       "    </tr>\n",
       "    <tr>\n",
       "      <th>3</th>\n",
       "      <td>0</td>\n",
       "      <td>0</td>\n",
       "      <td>0</td>\n",
       "      <td>0</td>\n",
       "      <td>0</td>\n",
       "      <td>0</td>\n",
       "      <td>0</td>\n",
       "      <td>0</td>\n",
       "      <td>0</td>\n",
       "      <td>0</td>\n",
       "      <td>...</td>\n",
       "      <td>0</td>\n",
       "      <td>0</td>\n",
       "      <td>0</td>\n",
       "      <td>0</td>\n",
       "      <td>0</td>\n",
       "      <td>0</td>\n",
       "      <td>0</td>\n",
       "      <td>0</td>\n",
       "      <td>0</td>\n",
       "      <td>0</td>\n",
       "    </tr>\n",
       "    <tr>\n",
       "      <th>4</th>\n",
       "      <td>4</td>\n",
       "      <td>0</td>\n",
       "      <td>0</td>\n",
       "      <td>0</td>\n",
       "      <td>0</td>\n",
       "      <td>0</td>\n",
       "      <td>0</td>\n",
       "      <td>0</td>\n",
       "      <td>0</td>\n",
       "      <td>0</td>\n",
       "      <td>...</td>\n",
       "      <td>0</td>\n",
       "      <td>0</td>\n",
       "      <td>0</td>\n",
       "      <td>0</td>\n",
       "      <td>0</td>\n",
       "      <td>0</td>\n",
       "      <td>0</td>\n",
       "      <td>0</td>\n",
       "      <td>0</td>\n",
       "      <td>0</td>\n",
       "    </tr>\n",
       "  </tbody>\n",
       "</table>\n",
       "<p>5 rows × 785 columns</p>\n",
       "</div>"
      ],
      "text/plain": [
       "   label  1x1  1x2  1x3  1x4  1x5  1x6  1x7  1x8  1x9  ...  28x19  28x20  \\\n",
       "0      7    0    0    0    0    0    0    0    0    0  ...      0      0   \n",
       "1      2    0    0    0    0    0    0    0    0    0  ...      0      0   \n",
       "2      1    0    0    0    0    0    0    0    0    0  ...      0      0   \n",
       "3      0    0    0    0    0    0    0    0    0    0  ...      0      0   \n",
       "4      4    0    0    0    0    0    0    0    0    0  ...      0      0   \n",
       "\n",
       "   28x21  28x22  28x23  28x24  28x25  28x26  28x27  28x28  \n",
       "0      0      0      0      0      0      0      0      0  \n",
       "1      0      0      0      0      0      0      0      0  \n",
       "2      0      0      0      0      0      0      0      0  \n",
       "3      0      0      0      0      0      0      0      0  \n",
       "4      0      0      0      0      0      0      0      0  \n",
       "\n",
       "[5 rows x 785 columns]"
      ]
     },
     "execution_count": 4,
     "metadata": {},
     "output_type": "execute_result"
    }
   ],
   "source": [
    "df_test.head()"
   ]
  },
  {
   "cell_type": "code",
   "execution_count": 5,
   "id": "a71eff9f",
   "metadata": {},
   "outputs": [
    {
     "name": "stdout",
     "output_type": "stream",
     "text": [
      "(10000, 784)\n"
     ]
    }
   ],
   "source": [
    "df_features = df_train.iloc[:, 1:785]\n",
    "df_label = df_train.iloc[:, 0:784]\n",
    "\n",
    "x_test = df_test.iloc[:, 0:784]\n",
    "print(x_test.shape)"
   ]
  },
  {
   "cell_type": "code",
   "execution_count": 9,
   "id": "3f7bc916",
   "metadata": {},
   "outputs": [],
   "source": [
    "from sklearn.model_selection import train_test_split\n",
    "x_train, x_cv, y_train, y_cv = train_test_split(df_features, df_label, test_size = 0.2, random_state = 1212)\n",
    "\n",
    "x_train = x_train.to_numpy().reshape(48000, 784)\n",
    "x_cv = x_cv.to_numpy().reshape(12000, 784)\n",
    "\n",
    "x_test = x_test.to_numpy().reshape(10000, 784)"
   ]
  },
  {
   "cell_type": "code",
   "execution_count": 10,
   "id": "c860efdf",
   "metadata": {},
   "outputs": [
    {
     "name": "stdout",
     "output_type": "stream",
     "text": [
      "(0, 255)\n"
     ]
    }
   ],
   "source": [
    "print((min(x_train[1]), max(x_train[1])))"
   ]
  },
  {
   "cell_type": "code",
   "execution_count": null,
   "id": "009051f7",
   "metadata": {},
   "outputs": [],
   "source": [
    "# Feature Normalization\n",
    "\n",
    "x_train = x_train.astype('float32'); x_cv= x_cv.astype('float32'); x_test = x_test.astype('float32')\n",
    "x_train /= 255; x_cv /= 255; x_test /= 255\n",
    "\n",
    "# Convert labels to One hot Encoded\n",
    "\n",
    "num_digits = 10\n",
    "y_train = keras.utils.to_categorical(y_train, num_digits)\n",
    "y_cv = keras.utils.to_categorical(y_cv, num_digits)"
   ]
  },
  {
   "cell_type": "code",
   "execution_count": null,
   "id": "9227524e",
   "metadata": {},
   "outputs": [],
   "source": [
    "# Printing 2 examples of labels after connversion\n",
    "\n",
    "print(y_train[0])  #2\n",
    "print(y_train[3])  #7"
   ]
  },
  {
   "cell_type": "code",
   "execution_count": null,
   "id": "ba7fb87a",
   "metadata": {},
   "outputs": [],
   "source": [
    "# Input Parameter\n",
    "\n",
    "n_input = 784\n",
    "n_hidden_1 = 300\n",
    "n_hidden_2 = 100\n",
    "n_hidden_3 = 100\n",
    "n_hidden_4 = 200\n",
    "num_digits = 10"
   ]
  },
  {
   "cell_type": "code",
   "execution_count": null,
   "id": "55bd245d",
   "metadata": {},
   "outputs": [],
   "source": [
    "Inp = Input(shape=(784,))\n",
    "x = Dense(n_hidden_1, activation = 'relu', name = 'Hidden_layer_1')(Inp)\n",
    "x = Dense(n_hidden_2, activation = 'relu', name = 'Hidden_layer_2')(x)\n",
    "x = Dense(n_hidden_3, activation = 'relu', name = 'Hidden_layer_3')(x)\n",
    "x = Dense(n_hidden_4, activation = 'relu', name = 'Hidden_layer_4')(x)\n",
    "output = Dense(num_digits, activation = 'softmax', name = 'Output_Layer')(x)"
   ]
  },
  {
   "cell_type": "code",
   "execution_count": null,
   "id": "bce24c42",
   "metadata": {},
   "outputs": [],
   "source": [
    "# Our model has 6 layers- Input layer, 4 hidden layer and 1 output layer\n",
    "\n",
    "model = Model(Inp, output)\n",
    "model.summary()"
   ]
  },
  {
   "cell_type": "code",
   "execution_count": null,
   "id": "5ab98340",
   "metadata": {},
   "outputs": [],
   "source": [
    "# Insert Hyperparameters\n",
    "\n",
    "learning_rate = 0.1\n",
    "training_epochs = 20\n",
    "batch_size = 100\n",
    "sgd = optimizers.SGD(lr = learning_rate)"
   ]
  },
  {
   "cell_type": "code",
   "execution_count": null,
   "id": "7a233c9d",
   "metadata": {},
   "outputs": [],
   "source": [
    "# We rely on the plain vanilla Stochastic Gradient Descent as our optimizing methodology\n",
    "\n",
    "model.compile(loss = 'categorical_crossentropy', optimizer = 'sgd', metrics = ['accuracy'])"
   ]
  },
  {
   "cell_type": "code",
   "execution_count": null,
   "id": "0dbf74aa",
   "metadata": {},
   "outputs": [],
   "source": [
    "history1 = model.fit(x_train, y_train, batch_size = training_epochs, verbose =2, validation_data = (x_cv, y_cv))"
   ]
  },
  {
   "cell_type": "markdown",
   "id": "65356772",
   "metadata": {},
   "source": [
    "## Model 2"
   ]
  },
  {
   "cell_type": "code",
   "execution_count": null,
   "id": "b9746226",
   "metadata": {},
   "outputs": [],
   "source": [
    "Inp = Input(shape=(784,))\n",
    "x = Dense(n_hidden_1, activation = 'relu', name = 'Hidden_layer_1')(Inp)\n",
    "x = Dense(n_hidden_2, activation = 'relu', name = 'Hidden_layer_2')(x)\n",
    "x = Dense(n_hidden_3, activation = 'relu', name = 'Hidden_layer_3')(x)\n",
    "x = Dense(n_hidden_4, activation = 'relu', name = 'Hidden_layer_4')(x)\n",
    "output = Dense(num_digits, activation = 'softmax', name = 'Output_Layer')(x)\n",
    "\n",
    "# We rely on ADAM as our optimizing methodology\n",
    "adam = keras.optimizers.Adam(lr = learning_rate)\n",
    "model2 = Model(Inp, output)\n",
    "\n",
    "model2.compile(loss = 'categorical_crossentropy', \n",
    "              optimizer = 'adam',\n",
    "              metrics = ['accuracy'])"
   ]
  },
  {
   "cell_type": "code",
   "execution_count": null,
   "id": "02d9e551",
   "metadata": {},
   "outputs": [],
   "source": [
    "history2 = model2.fit(x_train, y_train,\n",
    "                      batch_size = training_epochs, verbose =2, validation_data = (x_cv, y_cv))"
   ]
  },
  {
   "cell_type": "markdown",
   "id": "362ac477",
   "metadata": {},
   "source": [
    "## Model 2A: learning_rate = 0.01"
   ]
  },
  {
   "cell_type": "code",
   "execution_count": null,
   "id": "3e4bae5a",
   "metadata": {},
   "outputs": [],
   "source": [
    "Inp = Input(shape=(784,))\n",
    "x = Dense(n_hidden_1, activation = 'relu', name = 'Hidden_layer_1')(Inp)\n",
    "x = Dense(n_hidden_2, activation = 'relu', name = 'Hidden_layer_2')(x)\n",
    "x = Dense(n_hidden_3, activation = 'relu', name = 'Hidden_layer_3')(x)\n",
    "x = Dense(n_hidden_4, activation = 'relu', name = 'Hidden_layer_4')(x)\n",
    "output = Dense(num_digits, activation = 'softmax', name = 'Output_Layer')(x)\n",
    "\n",
    "# We rely on ADAM as our optimizing methodology\n",
    "learning_rate = 0.01\n",
    "adam = keras.optimizers.Adam(lr = learning_rate)\n",
    "model2a = Model(Inp, output)\n",
    "\n",
    "model2a.compile(loss = 'categorical_crossentropy', \n",
    "              optimizer = 'adam',\n",
    "              metrics = ['accuracy'])              "
   ]
  },
  {
   "cell_type": "code",
   "execution_count": null,
   "id": "c7bd6b46",
   "metadata": {},
   "outputs": [],
   "source": [
    "history2a = model2a.fit(x_train, y_train,\n",
    "                      batch_size = training_epochs, verbose =2, validation_data = (x_cv, y_cv))"
   ]
  },
  {
   "cell_type": "markdown",
   "id": "ee068d70",
   "metadata": {},
   "source": [
    "## Model 2B: learning_rate = 0.5"
   ]
  },
  {
   "cell_type": "code",
   "execution_count": null,
   "id": "cb5c6c1c",
   "metadata": {},
   "outputs": [],
   "source": [
    "Inp = Input(shape=(784,))\n",
    "x = Dense(n_hidden_1, activation = 'relu', name = 'Hidden_layer_1')(Inp)\n",
    "x = Dense(n_hidden_2, activation = 'relu', name = 'Hidden_layer_2')(x)\n",
    "x = Dense(n_hidden_3, activation = 'relu', name = 'Hidden_layer_3')(x)\n",
    "x = Dense(n_hidden_4, activation = 'relu', name = 'Hidden_layer_4')(x)\n",
    "output = Dense(num_digits, activation = 'softmax', name = 'Output_Layer')(x)\n",
    "\n",
    "# We rely on ADAM as our optimizing methodology\n",
    "learning_rate = 0.5\n",
    "adam = keras.optimizers.Adam(lr = learning_rate)\n",
    "model2b = Model(Inp, output)\n",
    "\n",
    "model2b.compile(loss = 'categorical_crossentropy', \n",
    "              optimizer = 'adam',\n",
    "              metrics = ['accuracy']) "
   ]
  },
  {
   "cell_type": "code",
   "execution_count": null,
   "id": "d544169c",
   "metadata": {},
   "outputs": [],
   "source": [
    "history2b = model2b.fit(x_train, y_train,\n",
    "                      batch_size = training_epochs, verbose =2, validation_data = (x_cv, y_cv))"
   ]
  },
  {
   "cell_type": "markdown",
   "id": "689810b4",
   "metadata": {},
   "source": [
    "## Model 3"
   ]
  },
  {
   "cell_type": "code",
   "execution_count": null,
   "id": "93d6c445",
   "metadata": {},
   "outputs": [],
   "source": [
    "# Input Parameter\n",
    "\n",
    "n_input = 784\n",
    "n_hidden_1 = 300\n",
    "n_hidden_2 = 100\n",
    "n_hidden_3 = 100\n",
    "n_hidden_4 = 100\n",
    "n_hidden_5 = 200\n",
    "num_digits = 10"
   ]
  },
  {
   "cell_type": "code",
   "execution_count": null,
   "id": "757cf18d",
   "metadata": {},
   "outputs": [],
   "source": [
    "Inp = Input(shape=(784,))\n",
    "x = Dense(n_hidden_1, activation = 'relu', name = 'Hidden_layer_1')(Inp)\n",
    "x = Dense(n_hidden_2, activation = 'relu', name = 'Hidden_layer_2')(x)\n",
    "x = Dense(n_hidden_3, activation = 'relu', name = 'Hidden_layer_3')(x)\n",
    "x = Dense(n_hidden_4, activation = 'relu', name = 'Hidden_layer_4')(x)\n",
    "x = Dense(n_hidden_5, activation = 'relu', name = 'Hidden_layer_5')(x)\n",
    "output = Dense(num_digits, activation = 'softmax', name = 'Output_Layer')(x)\n",
    "\n"
   ]
  },
  {
   "cell_type": "code",
   "execution_count": null,
   "id": "7947b294",
   "metadata": {},
   "outputs": [],
   "source": [
    "# This time model would have 7 layers; one input layer, 5 hidden layers and one output layer\n",
    "\n",
    "model3= Model(Inp, output)\n",
    "model3.summary()"
   ]
  },
  {
   "cell_type": "code",
   "execution_count": null,
   "id": "065576ed",
   "metadata": {},
   "outputs": [],
   "source": [
    "# We rely on ADAM as our optimizing methodology\n",
    "\n",
    "adam = keras.optimizers.Adam(lr = 0.01)\n",
    "\n",
    "model3.compile(loss = 'categorical_crossentropy', \n",
    "              optimizer = 'adam',\n",
    "              metrics = ['accuracy']) "
   ]
  },
  {
   "cell_type": "code",
   "execution_count": null,
   "id": "1499162c",
   "metadata": {},
   "outputs": [],
   "source": [
    "history3 = model3.fit(x_train, y_train,\n",
    "                      batch_size = training_epochs, verbose =2, validation_data = (x_cv, y_cv))"
   ]
  },
  {
   "cell_type": "markdown",
   "id": "358bf4d9",
   "metadata": {},
   "source": [
    "##  Model 4: This time we will add dropout layers"
   ]
  },
  {
   "cell_type": "code",
   "execution_count": null,
   "id": "7ffa450e",
   "metadata": {},
   "outputs": [],
   "source": [
    "Inp = Input(shape=(784,))\n",
    "x = Dense(n_hidden_1, activation = 'relu', name = 'Hidden_layer_1')(Inp)\n",
    "x = Dropout(0.3)(x)\n",
    "x = Dense(n_hidden_2, activation = 'relu', name = 'Hidden_layer_2')(x)\n",
    "x = Dropout(0.3)(x)\n",
    "x = Dense(n_hidden_3, activation = 'relu', name = 'Hidden_layer_3')(x)\n",
    "x = Dropout(0.3)(x)\n",
    "x = Dense(n_hidden_4, activation = 'relu', name = 'Hidden_layer_4')(x)\n",
    "output = Dense(num_digits, activation = 'softmax', name = 'Output_Layer')(x)"
   ]
  },
  {
   "cell_type": "code",
   "execution_count": null,
   "id": "8ed074ab",
   "metadata": {},
   "outputs": [],
   "source": [
    "model4= Model(Inp, output)\n",
    "model4.summary()"
   ]
  },
  {
   "cell_type": "code",
   "execution_count": null,
   "id": "0e7865d3",
   "metadata": {},
   "outputs": [],
   "source": [
    "model4.compile(loss = 'categorical_crossentropy', \n",
    "              optimizer = 'adam',\n",
    "              metrics = ['accuracy']) "
   ]
  },
  {
   "cell_type": "code",
   "execution_count": null,
   "id": "c8fff105",
   "metadata": {},
   "outputs": [],
   "source": [
    "history4 = model4.fit(x_train, y_train,\n",
    "                      batch_size = training_epochs, verbose =2, validation_data = (x_cv, y_cv))"
   ]
  },
  {
   "cell_type": "code",
   "execution_count": null,
   "id": "cab44861",
   "metadata": {},
   "outputs": [],
   "source": [
    "test_pred = pd.DataFrame(model4,predict(x_test, batch_size = 200))\n",
    "test_pred = pd.DataFrame(test_pred.idxmax(axis =1))\n",
    "test_pred.index_name = 'ImageId'\n",
    "test_pred = test_pred.rename(columns = {0: 'Label'}).reset_index()\n",
    "test_pred['ImageId'] = test_pred['ImageId'] + 1\n",
    "\n",
    "test_pred.head()"
   ]
  },
  {
   "cell_type": "code",
   "execution_count": null,
   "id": "aedaf78c",
   "metadata": {},
   "outputs": [],
   "source": [
    "test_pred.to_csv('mnist_submission.csv', index = False)"
   ]
  }
 ],
 "metadata": {
  "kernelspec": {
   "display_name": "Python 3 (ipykernel)",
   "language": "python",
   "name": "python3"
  },
  "language_info": {
   "codemirror_mode": {
    "name": "ipython",
    "version": 3
   },
   "file_extension": ".py",
   "mimetype": "text/x-python",
   "name": "python",
   "nbconvert_exporter": "python",
   "pygments_lexer": "ipython3",
   "version": "3.8.12"
  }
 },
 "nbformat": 4,
 "nbformat_minor": 5
}
