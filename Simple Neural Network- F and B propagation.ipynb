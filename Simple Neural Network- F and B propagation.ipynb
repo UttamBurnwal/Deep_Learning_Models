{
 "cells": [
  {
   "cell_type": "code",
   "execution_count": 10,
   "id": "307421fb",
   "metadata": {},
   "outputs": [],
   "source": [
    "import matplotlib.pyplot as plt\n",
    "import pandas as pd\n",
    "import numpy as np"
   ]
  },
  {
   "cell_type": "code",
   "execution_count": 11,
   "id": "46c7420d",
   "metadata": {},
   "outputs": [],
   "source": [
    "x1 = 3\n",
    "x2 = 5\n",
    "y =31"
   ]
  },
  {
   "cell_type": "code",
   "execution_count": 12,
   "id": "79784ac7",
   "metadata": {},
   "outputs": [],
   "source": [
    "lr = 0.01\n",
    "w1 = 6\n",
    "w2 = 7"
   ]
  },
  {
   "cell_type": "code",
   "execution_count": 16,
   "id": "56df5b0e",
   "metadata": {},
   "outputs": [
    {
     "name": "stdout",
     "output_type": "stream",
     "text": [
      "Value of w1- 4.122432 Value of w2- 3.87072 5.075107840000003\n",
      "Value of w1- 4.07917824 Value of w2- 3.7986304 0.5196910428159996\n",
      "Value of w1- 4.0653370368 Value of w2- 3.775561728 0.05321636278435738\n",
      "Value of w1- 4.060907851776 Value of w2- 3.7681797529599996 0.005449355549118595\n",
      "Value of w1- 4.0594905125683205 Value of w2- 3.7658175209472 0.0005580140082296366\n",
      "Value of w1- 4.059036964021863 Value of w2- 3.7650616067031035 5.7140634442736274e-05\n",
      "Value of w1- 4.058891828486996 Value of w2- 3.7648197141449926 5.8512009669355075e-06\n",
      "Value of w1- 4.0588453851158395 Value of w2- 3.7647423085263974 5.991629790128759e-07\n",
      "Value of w1- 4.058830523237069 Value of w2- 3.764717538728447 6.13542890500737e-08\n",
      "Value of w1- 4.058825767435863 Value of w2- 3.7647096123931028 6.282679198817659e-09\n",
      "Value of w1- 4.058824245579477 Value of w2- 3.7647070759657923 6.433463500526447e-10\n",
      "Value of w1- 4.058823758585434 Value of w2- 3.764706264309053 6.587866625000455e-11\n",
      "Value of w1- 4.058823602747339 Value of w2- 3.7647060045788963 6.745975446884589e-12\n",
      "Value of w1- 4.05882355287915 Value of w2- 3.764705921465246 6.907878817451875e-13\n",
      "Value of w1- 4.058823536921329 Value of w2- 3.7647058948688783 7.073667788124441e-14\n",
      "Value of w1- 4.058823531814826 Value of w2- 3.764705886358041 7.243435573146874e-15\n",
      "Value of w1- 4.058823530180745 Value of w2- 3.7647058836345724 7.417280039448566e-16\n",
      "Value of w1- 4.05882352965784 Value of w2- 3.764705882763063 7.595287081759068e-17\n",
      "Value of w1- 4.0588235294905095 Value of w2- 3.7647058824841793 7.777595372832959e-18\n",
      "Value of w1- 4.058823529436964 Value of w2- 3.764705882394937 7.964204396844315e-19\n",
      "Value of w1- 4.058823529419829 Value of w2- 3.7647058823663793 8.155264137088508e-20\n",
      "Value of w1- 4.058823529414346 Value of w2- 3.764705882357241 8.35083464015565e-21\n",
      "Value of w1- 4.058823529412592 Value of w2- 3.7647058823543165 8.551171559456818e-22\n",
      "Value of w1- 4.058823529412031 Value of w2- 3.7647058823533808 8.75693160086968e-23\n",
      "Value of w1- 4.058823529411851 Value of w2- 3.764705882353081 8.990944348504235e-24\n",
      "Value of w1- 4.058823529411793 Value of w2- 3.764705882352985 9.201273598497882e-25\n",
      "Value of w1- 4.058823529411774 Value of w2- 3.7647058823529544 9.335064408023365e-26\n",
      "Value of w1- 4.058823529411769 Value of w2- 3.7647058823529447 9.201273598497882e-27\n",
      "Value of w1- 4.058823529411767 Value of w2- 3.7647058823529416 1.0223637331664313e-27\n",
      "Value of w1- 4.058823529411767 Value of w2- 3.7647058823529407 5.048709793414476e-29\n",
      "Value of w1- 4.058823529411767 Value of w2- 3.7647058823529402 1.262177448353619e-29\n",
      "Value of w1- 4.058823529411767 Value of w2- 3.76470588235294 1.262177448353619e-29\n",
      "Value of w1- 4.058823529411767 Value of w2- 3.76470588235294 0.0\n",
      "Value of w1- 4.058823529411767 Value of w2- 3.76470588235294 0.0\n",
      "Value of w1- 4.058823529411767 Value of w2- 3.76470588235294 0.0\n",
      "Value of w1- 4.058823529411767 Value of w2- 3.76470588235294 0.0\n",
      "Value of w1- 4.058823529411767 Value of w2- 3.76470588235294 0.0\n",
      "Value of w1- 4.058823529411767 Value of w2- 3.76470588235294 0.0\n",
      "Value of w1- 4.058823529411767 Value of w2- 3.76470588235294 0.0\n",
      "Value of w1- 4.058823529411767 Value of w2- 3.76470588235294 0.0\n",
      "Value of w1- 4.058823529411767 Value of w2- 3.76470588235294 0.0\n",
      "Value of w1- 4.058823529411767 Value of w2- 3.76470588235294 0.0\n",
      "Value of w1- 4.058823529411767 Value of w2- 3.76470588235294 0.0\n",
      "Value of w1- 4.058823529411767 Value of w2- 3.76470588235294 0.0\n",
      "Value of w1- 4.058823529411767 Value of w2- 3.76470588235294 0.0\n",
      "Value of w1- 4.058823529411767 Value of w2- 3.76470588235294 0.0\n",
      "Value of w1- 4.058823529411767 Value of w2- 3.76470588235294 0.0\n",
      "Value of w1- 4.058823529411767 Value of w2- 3.76470588235294 0.0\n",
      "Value of w1- 4.058823529411767 Value of w2- 3.76470588235294 0.0\n",
      "Value of w1- 4.058823529411767 Value of w2- 3.76470588235294 0.0\n"
     ]
    }
   ],
   "source": [
    "# y = w1*x1 + w2*x2\n",
    "error_list = []\n",
    "for epoch in range(50):\n",
    "    y_pred = w1*x1 + w2*x2\n",
    "    s_error = (y - y_pred)**2\n",
    "    dEw1 = 2*(y-y_pred)*(-x1)\n",
    "    dEw2 = 2*(y-y_pred)*(-x2)\n",
    "    \n",
    "    w1 = w1 - lr*dEw1\n",
    "    w2 = w2 - lr*dEw2\n",
    "    error_list.append(s_error)\n",
    "    print('Value of w1-',w1, 'Value of w2-',w2, s_error)"
   ]
  },
  {
   "cell_type": "code",
   "execution_count": 17,
   "id": "101784a3",
   "metadata": {},
   "outputs": [
    {
     "data": {
      "text/plain": [
       "[<matplotlib.lines.Line2D at 0x1c5b6840070>]"
      ]
     },
     "execution_count": 17,
     "metadata": {},
     "output_type": "execute_result"
    },
    {
     "data": {
      "image/png": "[encoded data removed]",
      "text/plain": [
       "<Figure size 432x288 with 1 Axes>"
      ]
     },
     "metadata": {
      "needs_background": "light"
     },
     "output_type": "display_data"
    }
   ],
   "source": [
    "plt.plot(error_list)"
   ]
  },
  {
   "cell_type": "code",
   "execution_count": null,
   "id": "9df0a353",
   "metadata": {},
   "outputs": [],
   "source": []
  }
 ],
 "metadata": {
  "kernelspec": {
   "display_name": "Python 3 (ipykernel)",
   "language": "python",
   "name": "python3"
  },
  "language_info": {
   "codemirror_mode": {
    "name": "ipython",
    "version": 3
   },
   "file_extension": ".py",
   "mimetype": "text/x-python",
   "name": "python",
   "nbconvert_exporter": "python",
   "pygments_lexer": "ipython3",
   "version": "3.8.12"
  }
 },
 "nbformat": 4,
 "nbformat_minor": 5
}
