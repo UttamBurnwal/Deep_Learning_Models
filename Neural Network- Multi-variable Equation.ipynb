{
 "cells": [
  {
   "cell_type": "code",
   "execution_count": 1,
   "id": "8f7b7eb3",
   "metadata": {},
   "outputs": [],
   "source": [
    "import numpy as np\n",
    "import matplotlib.pyplot as plt"
   ]
  },
  {
   "cell_type": "code",
   "execution_count": 2,
   "id": "01b3b026",
   "metadata": {},
   "outputs": [],
   "source": [
    "x1 = np.random.randint(1, 10, 10)\n",
    "x2 = np.random.randint(11, 20, 10)\n",
    "x3 = np.random.randint(21, 30, 10)\n",
    "y = x1*7 + x2*5 + x3*4"
   ]
  },
  {
   "cell_type": "code",
   "execution_count": 3,
   "id": "c256d1f5",
   "metadata": {},
   "outputs": [
    {
     "data": {
      "text/plain": [
       "(array([3, 4, 2, 7, 7, 8, 8, 7, 8, 2]),\n",
       " array([16, 12, 12, 18, 13, 18, 13, 12, 12, 12]),\n",
       " array([26, 23, 23, 25, 27, 22, 22, 21, 27, 28]))"
      ]
     },
     "execution_count": 3,
     "metadata": {},
     "output_type": "execute_result"
    }
   ],
   "source": [
    "x1, x2, x3"
   ]
  },
  {
   "cell_type": "code",
   "execution_count": 4,
   "id": "37cc8541",
   "metadata": {},
   "outputs": [
    {
     "data": {
      "text/plain": [
       "10"
      ]
     },
     "execution_count": 4,
     "metadata": {},
     "output_type": "execute_result"
    }
   ],
   "source": [
    "SHAPE = x1.shape[0]\n",
    "SHAPE"
   ]
  },
  {
   "cell_type": "code",
   "execution_count": 5,
   "id": "a3c9864e",
   "metadata": {},
   "outputs": [
    {
     "data": {
      "text/plain": [
       "array([205, 180, 166, 239, 222, 234, 209, 193, 224, 186])"
      ]
     },
     "execution_count": 5,
     "metadata": {},
     "output_type": "execute_result"
    }
   ],
   "source": [
    "y"
   ]
  },
  {
   "cell_type": "code",
   "execution_count": 6,
   "id": "4107cd8d",
   "metadata": {},
   "outputs": [
    {
     "data": {
      "text/plain": [
       "array([[205],\n",
       "       [180],\n",
       "       [166],\n",
       "       [239],\n",
       "       [222],\n",
       "       [234],\n",
       "       [209],\n",
       "       [193],\n",
       "       [224],\n",
       "       [186]])"
      ]
     },
     "execution_count": 6,
     "metadata": {},
     "output_type": "execute_result"
    }
   ],
   "source": [
    "y = y.reshape(SHAPE, 1)\n",
    "y"
   ]
  },
  {
   "cell_type": "code",
   "execution_count": 7,
   "id": "314e8a61",
   "metadata": {},
   "outputs": [
    {
     "data": {
      "text/plain": [
       "array([[ 3,  4,  2,  7,  7,  8,  8,  7,  8,  2],\n",
       "       [16, 12, 12, 18, 13, 18, 13, 12, 12, 12],\n",
       "       [26, 23, 23, 25, 27, 22, 22, 21, 27, 28]])"
      ]
     },
     "execution_count": 7,
     "metadata": {},
     "output_type": "execute_result"
    }
   ],
   "source": [
    "X = np.array([x1, x2, x3])\n",
    "X"
   ]
  },
  {
   "cell_type": "code",
   "execution_count": 8,
   "id": "d7344aaf",
   "metadata": {},
   "outputs": [
    {
     "data": {
      "text/plain": [
       "array([[ 3, 16, 26],\n",
       "       [ 4, 12, 23],\n",
       "       [ 2, 12, 23],\n",
       "       [ 7, 18, 25],\n",
       "       [ 7, 13, 27],\n",
       "       [ 8, 18, 22],\n",
       "       [ 8, 13, 22],\n",
       "       [ 7, 12, 21],\n",
       "       [ 8, 12, 27],\n",
       "       [ 2, 12, 28]])"
      ]
     },
     "execution_count": 8,
     "metadata": {},
     "output_type": "execute_result"
    }
   ],
   "source": [
    "X = X.T\n",
    "X"
   ]
  },
  {
   "cell_type": "code",
   "execution_count": 9,
   "id": "ba77b6e4",
   "metadata": {},
   "outputs": [
    {
     "data": {
      "text/plain": [
       "array([[-0.98434841],\n",
       "       [ 1.35617748],\n",
       "       [-0.63673174]])"
      ]
     },
     "execution_count": 9,
     "metadata": {},
     "output_type": "execute_result"
    }
   ],
   "source": [
    "lr = 0.0001\n",
    "w = np.array([np.random.randn(1),\n",
    "             np.random.randn(1),\n",
    "             np.random.randn(1)])\n",
    "w"
   ]
  },
  {
   "cell_type": "code",
   "execution_count": 18,
   "id": "93232611",
   "metadata": {},
   "outputs": [
    {
     "name": "stdout",
     "output_type": "stream",
     "text": [
      "Value of w1 - 5.617331846895949 Value of w2 - 5.6613254399640764 Value of w3 - 3.942271708167966 [[24.77649235]\n",
      " [ 1.19476195]\n",
      " [15.10834122]\n",
      " [ 0.59791438]\n",
      " [ 7.06185681]\n",
      " [ 0.20805797]\n",
      " [14.25129891]\n",
      " [ 8.91666869]\n",
      " [22.26096959]\n",
      " [13.01529828]]\n",
      "Value of w1 - 5.631443387513575 Value of w2 - 5.658834420968218 Value of w3 - 3.940450558998948 [[24.32725769]\n",
      " [ 1.16096736]\n",
      " [14.76725219]\n",
      " [ 0.61148264]\n",
      " [ 6.97018204]\n",
      " [ 0.18276457]\n",
      " [13.94377858]\n",
      " [ 8.7324146 ]\n",
      " [21.94082864]\n",
      " [12.63217274]]\n",
      "Value of w1 - 5.645390186812264 Value of w2 - 5.656318981647955 Value of w3 - 3.938680952232821 [[23.88663411]\n",
      " [ 1.12816147]\n",
      " [14.43439694]\n",
      " [ 0.62471203]\n",
      " [ 6.87951902]\n",
      " [ 0.15961705]\n",
      " [13.64336893]\n",
      " [ 8.55224109]\n",
      " [21.6250553 ]\n",
      " [12.26061065]]\n",
      "Value of w1 - 5.659174428316076 Value of w2 - 5.653780033298527 Value of w3 - 3.9369618721158823 [[23.45444584]\n",
      " [ 1.0963146 ]\n",
      " [14.10956472]\n",
      " [ 0.63759711]\n",
      " [ 6.78986125]\n",
      " [ 0.1385    ]\n",
      " [13.34989487]\n",
      " [ 8.37605164]\n",
      " [21.31359586]\n",
      " [11.90025634]]\n",
      "Value of w1 - 5.672798263749141 Value of w2 - 5.651218468258766 Value of w3 - 3.935292320904999 [[23.03052091]\n",
      " [ 1.06539797]\n",
      " [13.79255046]\n",
      " [ 0.65013324]\n",
      " [ 6.70120213]\n",
      " [ 0.11930309]\n",
      " [13.06318584]\n",
      " [ 8.20375213]\n",
      " [21.00639714]\n",
      " [11.55076524]]\n",
      "Value of w1 - 5.686263813526441 Value of w2 - 5.6486351602537095 Value of w3 - 3.933671318561326 [[22.6146911 ]\n",
      " [ 1.03538369]\n",
      " [13.48315458]\n",
      " [ 0.6623165 ]\n",
      " [ 6.61353495]\n",
      " [ 0.10192082]\n",
      " [12.78307573]\n",
      " [ 8.0352508 ]\n",
      " [20.70340643]\n",
      " [11.21180353]]\n",
      "Value of w1 - 5.699573167236768 Value of w2 - 5.646030964731334 Value of w3 - 3.932097902449123 [[22.20679187]\n",
      " [ 1.00624473]\n",
      " [13.18118286]\n",
      " [ 0.6741437 ]\n",
      " [ 6.52685293]\n",
      " [ 0.08625241]\n",
      " [12.50940271]\n",
      " [ 7.8704582 ]\n",
      " [20.40457156]\n",
      " [10.88304781]]\n",
      "Value of w1 - 5.712728384117995 Value of w2 - 5.643406719193516 Value of w3 - 3.9305711270396078 [[21.8066622 ]\n",
      " [ 0.97795486]\n",
      " [12.88644627]\n",
      " [ 0.68561231]\n",
      " [ 6.4411492 ]\n",
      " [ 0.07220154]\n",
      " [12.24200917]\n",
      " [ 7.70928711]\n",
      " [20.10984084]\n",
      " [10.56418474]]\n",
      "Value of w1 - 5.725731493524778 Value of w2 - 5.64076324352132 Value of w3 - 3.929090063619758 [[21.41414461]\n",
      " [ 0.95048868]\n",
      " [12.59876085]\n",
      " [ 0.69672043]\n",
      " [ 6.35641682]\n",
      " [ 0.05967623]\n",
      " [11.98074156]\n",
      " [ 7.55165246]\n",
      " [19.81916312]\n",
      " [10.25491074]]\n",
      "Value of w1 - 5.738584495388812 Value of w2 - 5.638101340294695 Value of w3 - 3.927653800005974 [[21.029085  ]\n",
      " [ 0.92382155]\n",
      " [12.31794757]\n",
      " [ 0.70746675]\n",
      " [ 6.27264879]\n",
      " [ 0.04858862]\n",
      " [11.7254503 ]\n",
      " [ 7.39747135]\n",
      " [19.53248772]\n",
      " [ 9.95493171]]\n",
      "Value of w1 - 5.751289360671767 Value of w2 - 5.6354217951066845 Value of w3 - 3.9262614402625244 [[20.65133261]\n",
      " [ 0.89792958]\n",
      " [12.04383215]\n",
      " [ 0.71785051]\n",
      " [ 6.18983802]\n",
      " [ 0.03885484]\n",
      " [11.47598968]\n",
      " [ 7.2466629 ]\n",
      " [19.24976448]\n",
      " [ 9.66396268]]\n",
      "Value of w1 - 5.763848031811019 Value of w2 - 5.6327253768722425 Value of w3 - 3.9249121044247026 [[20.28073991]\n",
      " [ 0.87278964]\n",
      " [11.77624498]\n",
      " [ 0.72787148]\n",
      " [ 6.10797738]\n",
      " [ 0.03039483]\n",
      " [11.23221772]\n",
      " [ 7.09914826]\n",
      " [18.97094374]\n",
      " [ 9.38172758]]\n",
      "Value of w1 - 5.776262423158284 Value of w2 - 5.630012838131741 Value of w3 - 3.923604928226603 [[19.91716258]\n",
      " [ 0.84837925]\n",
      " [11.51502096]\n",
      " [ 0.73752991]\n",
      " [ 6.02705966]\n",
      " [ 0.02313218]\n",
      " [10.99399613]\n",
      " [ 6.95485054]\n",
      " [18.69597634]\n",
      " [ 9.10795889]]\n",
      "Value of w1 - 5.788534421411291 Value of w2 - 5.6272849153492555 Value of w3 - 3.922339062833449 [[1.95604594e+01]\n",
      " [8.24676666e-01]\n",
      " [1.12599994e+01]\n",
      " [7.46826524e-01]\n",
      " [5.94707762e+00]\n",
      " [1.69940183e-02]\n",
      " [1.07611901e+01]\n",
      " [6.81369474e+00]\n",
      " [1.84248136e+01]\n",
      " [8.84239743e+00]]\n",
      "Value of w1 - 5.800665886038581 Value of w2 - 5.624542329205728 Value of w3 - 3.9211136745784034 [[1.92104921e+01]\n",
      " [8.01660782e-01]\n",
      " [1.10110238e+01]\n",
      " [7.55762463e-01]\n",
      " [5.86802396e+00]\n",
      " [1.19108346e-02]\n",
      " [1.05336685e+01]\n",
      " [6.67560773e+00]\n",
      " [1.81574074e+01]\n",
      " [8.58479210e+00]]\n",
      "Value of w1 - 5.812658649697561 Value of w2 - 5.621785784887078 Value of w3 - 3.919927944703765 [[1.88671256e+01]\n",
      " [7.79311139e-01]\n",
      " [1.07679419e+01]\n",
      " [7.64339277e-01]\n",
      " [5.78989134e+00]\n",
      " [7.81635379e-03]\n",
      " [1.03113032e+01]\n",
      " [6.54051818e+00]\n",
      " [1.78937100e+01]\n",
      " [8.33489955e+00]]\n",
      "Value of w1 - 5.824514518645925 Value of w2 - 5.619015972367361 Value of w3 - 3.91878106910651 [[1.85302275e+01]\n",
      " [7.57607903e-01]\n",
      " [1.05306055e+01]\n",
      " [7.72558892e-01]\n",
      " [5.71267238e+00]\n",
      " [4.64740672e-03]\n",
      " [1.00939696e+01]\n",
      " [6.40835654e+00]\n",
      " [1.76336743e+01]\n",
      " [8.09248405e+00]]\n",
      "Value of w1 - 5.83623527314652 Value of w2 - 5.616233566687043 Value of w3 - 3.917672258088069 [[1.81996682e+01]\n",
      " [7.36531840e-01]\n",
      " [1.02988703e+01]\n",
      " [7.80423583e-01]\n",
      " [5.63635966e+00]\n",
      " [2.34380190e-03]\n",
      " [9.88154629e+00]\n",
      " [6.27905494e+00]\n",
      " [1.73772536e+01]\n",
      " [7.85731714e+00]]\n",
      "Value of w1 - 5.847822667865807 Value of w2 - 5.6134392282264916 Value of w3 - 3.916600736108315 [[1.78753210e+01]\n",
      " [7.16064305e-01]\n",
      " [1.00725956e+01]\n",
      " [7.87935952e-01]\n",
      " [5.56094572e+00]\n",
      " [8.48203679e-04]\n",
      " [9.67391489e+00]\n",
      " [6.15254721e+00]\n",
      " [1.71244017e+01]\n",
      " [7.62917748e+00]]\n",
      "Value of w1 - 5.859278432265984 Value of w2 - 5.6106336029747395 Value of w3 - 3.9155657415436416 [[1.75570620e+01]\n",
      " [6.96187215e-01]\n",
      " [9.85164488e+00]\n",
      " [7.95098904e-01]\n",
      " [5.48642308e+00]\n",
      " [1.06014918e-04]\n",
      " [9.47096006e+00]\n",
      " [6.02876880e+00]\n",
      " [1.68750728e+01]\n",
      " [7.40785059e+00]]\n"
     ]
    }
   ],
   "source": [
    "error_list = []\n",
    "# Epoch was around 150 (range: 150)\n",
    "\n",
    "for i in range(20):\n",
    "    y_pred = np.matmul(X,w)\n",
    "    error = (y - y_pred)**2\n",
    "    dEw1 = 2*np.matmul((y-y_pred).T, (-X[:,0].reshape(SHAPE, 1)))\n",
    "    dEw2 = 2*np.matmul((y-y_pred).T, (-X[:,1].reshape(SHAPE, 1)))\n",
    "    dEw3 = 2*np.matmul((y-y_pred).T, (-X[:,2].reshape(SHAPE, 1)))\n",
    "    \n",
    "    w[0][0] = w[0][0] - lr*dEw1\n",
    "    w[1][0] = w[1][0] - lr*dEw2\n",
    "    w[2][0] = w[2][0] - lr*dEw3\n",
    "    \n",
    "    error_list.append(error.mean())\n",
    "    print('Value of w1 -',w[0][0], 'Value of w2 -',w[1][0], 'Value of w3 -',w[2][0],error)"
   ]
  },
  {
   "cell_type": "code",
   "execution_count": 19,
   "id": "c6bb335f",
   "metadata": {},
   "outputs": [
    {
     "data": {
      "text/plain": [
       "[<matplotlib.lines.Line2D at 0x1d6f5814af0>]"
      ]
     },
     "execution_count": 19,
     "metadata": {},
     "output_type": "execute_result"
    },
    {
     "data": {
      "image/png": "[encoded data removed]",
      "text/plain": [
       "<Figure size 432x288 with 1 Axes>"
      ]
     },
     "metadata": {
      "needs_background": "light"
     },
     "output_type": "display_data"
    }
   ],
   "source": [
    "plt.plot(error_list)"
   ]
  },
  {
   "cell_type": "code",
   "execution_count": null,
   "id": "ebb1bd41",
   "metadata": {},
   "outputs": [],
   "source": []
  }
 ],
 "metadata": {
  "kernelspec": {
   "display_name": "Python 3 (ipykernel)",
   "language": "python",
   "name": "python3"
  },
  "language_info": {
   "codemirror_mode": {
    "name": "ipython",
    "version": 3
   },
   "file_extension": ".py",
   "mimetype": "text/x-python",
   "name": "python",
   "nbconvert_exporter": "python",
   "pygments_lexer": "ipython3",
   "version": "3.8.12"
  }
 },
 "nbformat": 4,
 "nbformat_minor": 5
}
